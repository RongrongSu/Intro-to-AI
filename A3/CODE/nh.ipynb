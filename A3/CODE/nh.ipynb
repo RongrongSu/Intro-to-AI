{
 "cells": [
  {
   "cell_type": "code",
   "execution_count": null,
   "metadata": {},
   "outputs": [],
   "source": [
    "NH M NA 0.8\n",
    "NH M ~NA 0.4\n",
    "NH ~M NA 0.5\n",
    "NH ~M ~NA 0\n",
    "~NH M NA 0.2\n",
    "~NH M ~NA 0.6\n",
    "~NH ~M NA 0.5\n",
    "~NH ~M ~NA 1"
   ]
  }
 ],
 "metadata": {
  "kernelspec": {
   "display_name": "Python 3",
   "language": "python",
   "name": "python3"
  },
  "language_info": {
   "codemirror_mode": {
    "name": "ipython",
    "version": 3
   },
   "file_extension": ".py",
   "mimetype": "text/x-python",
   "name": "python",
   "nbconvert_exporter": "python",
   "pygments_lexer": "ipython3",
   "version": "3.6.5"
  }
 },
 "nbformat": 4,
 "nbformat_minor": 2
}
