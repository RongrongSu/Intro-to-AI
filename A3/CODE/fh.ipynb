{
 "cells": [
  {
   "cell_type": "code",
   "execution_count": null,
   "metadata": {},
   "outputs": [],
   "source": [
    "FH M NH S 0.99\n",
    "FH ~M ~NH ~FS 0\n",
    "FH ~M ~NH S 0.5\n",
    "FH ~M NH S 0.75\n",
    "FH M ~NH S 0.9\n",
    "FH M NH ~S 0.65\n",
    "FH M ~NH ~S 0.4\n",
    "FH ~M NH ~S 0.2\n",
    "~FH M NH S  0.01\n",
    "~FH ~M ~NH ~FS 1\n",
    "~FH ~M ~NH S 0.5\n",
    "~FH ~M NH S 0.25\n",
    "~FH M ~NH S 0.1\n",
    "~FH M NH ~S 0.35\n",
    "~FH M ~NH ~S 0.6\n",
    "~FH ~M NH ~S 0.8"
   ]
  }
 ],
 "metadata": {
  "kernelspec": {
   "display_name": "Python 3",
   "language": "python",
   "name": "python3"
  },
  "language_info": {
   "codemirror_mode": {
    "name": "ipython",
    "version": 3
   },
   "file_extension": ".py",
   "mimetype": "text/x-python",
   "name": "python",
   "nbconvert_exporter": "python",
   "pygments_lexer": "ipython3",
   "version": "3.6.5"
  }
 },
 "nbformat": 4,
 "nbformat_minor": 2
}
