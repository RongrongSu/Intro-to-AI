{
 "cells": [
  {
   "cell_type": "code",
   "execution_count": null,
   "metadata": {},
   "outputs": [],
   "source": [
    "sudoku = [\n",
    "    [0, 6, 1, 0, 3, 0, 0, 2, 0],\n",
    "    [0, 5, 0, 0, 0, 8, 1, 0, 7],\n",
    "    [0, 0, 0, 0, 0, 7, 0, 3, 4],\n",
    "    [0, 0, 9, 0, 0, 6, 0, 7, 8],\n",
    "    [0, 0, 3, 2, 0, 9, 5, 0, 0],\n",
    "    [5, 7, 0, 3, 0, 0, 9, 0, 0],\n",
    "    [1, 9, 0, 7, 0, 0, 0, 0, 0],\n",
    "    [8, 0, 2, 4, 0, 0, 0, 6, 0],\n",
    "    [0, 4, 0, 0, 1, 0, 2, 5, 0]]\n",
    "\n",
    "\n",
    "def show():\n",
    "    for i in range(len(sudoku)):\n",
    "        for j in range(len(sudoku[i])):\n",
    "            print(sudoku[i][j],end=\" \")\n",
    "        print()\n",
    "        \n",
    "        \n",
    "def check(sudoku,i,j,value):\n",
    "    for item in sudoku[i]:\n",
    "        if item == value:\n",
    "            return False\n",
    "    for item in sudoku:\n",
    "        if item[j] == value:\n",
    "            return False\n",
    "    row = i//3\n",
    "    col = j//3\n",
    "    for r in range(row*3,row*3+3):\n",
    "        for c in range(col*3,col*3+3):\n",
    "            if sudoku[r][c] == value:\n",
    "                return False\n",
    "    return True\n",
    "\n",
    "\n",
    "def shudu():\n",
    "    domain=range(1,10)\n",
    "    for i in range(9):\n",
    "        for j in range(9):\n",
    "            if i == 8 and j == 8 and sudoku[i][j] > 0:\n",
    "                show()\n",
    "                print(\"=\"*20) \n",
    "            if sudoku[i][j] == 0\n",
    "                for value in domain:\n",
    "                    if check(sudoku,i, j, value):\n",
    "                        sudoku[i][j] = value\n",
    "                        if not shudu():\n",
    "                            sudoku[i][j] = 0\n",
    "                return False\n",
    "    print(count)\n",
    "\n",
    "shudu()"
   ]
  }
 ],
 "metadata": {
  "kernelspec": {
   "display_name": "Python 3",
   "language": "python",
   "name": "python3"
  },
  "language_info": {
   "codemirror_mode": {
    "name": "ipython",
    "version": 3
   },
   "file_extension": ".py",
   "mimetype": "text/x-python",
   "name": "python",
   "nbconvert_exporter": "python",
   "pygments_lexer": "ipython3",
   "version": "3.6.5"
  }
 },
 "nbformat": 4,
 "nbformat_minor": 2
}
